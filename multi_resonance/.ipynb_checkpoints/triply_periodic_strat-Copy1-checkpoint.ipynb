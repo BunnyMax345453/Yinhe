{
 "cells": [
  {
   "cell_type": "code",
   "execution_count": 1,
   "metadata": {
    "ExecuteTime": {
     "end_time": "2022-01-17T07:27:00.951355Z",
     "start_time": "2022-01-17T07:26:59.856305Z"
    }
   },
   "outputs": [],
   "source": [
    "import os\n",
    "os.chdir('D:/Python/Flies/Yinhe')\n",
    "import pandas as pd\n",
    "import numpy as np\n",
    "import datetime\n",
    "import matplotlib.pyplot as plt"
   ]
  },
  {
   "cell_type": "markdown",
   "metadata": {},
   "source": [
    "## prepare data\n",
    "数据来自于聚矿，由于Wind和聚矿无法获得对每分钟的60min，15min，4min的MACD数据（Wind上60minMACD每日只有四个时间点，无法针对每分钟），这里根据百度百科的定义重新计算三种周期下的MACD"
   ]
  },
  {
   "cell_type": "code",
   "execution_count": 2,
   "metadata": {
    "ExecuteTime": {
     "end_time": "2022-01-17T07:27:00.972298Z",
     "start_time": "2022-01-17T07:27:00.964320Z"
    }
   },
   "outputs": [],
   "source": [
    "def get_csv_data(stock = '000009.XSHE'):\n",
    "    \"\"\"\n",
    "    给定股票，获取给股票2020-10-01之后的分钟数据：收盘价，最高价，最低价\n",
    "    \"\"\"\n",
    "    close_df = pd.read_csv('dataset/minute_10/close_sum.csv').set_index('date')\n",
    "    high_df = pd.read_csv('dataset/minute_10/high_sum.csv').set_index('date')\n",
    "    low_df = pd.read_csv('dataset/minute_10/low_sum.csv').set_index('date')\n",
    "    close_df.index = pd.to_datetime(close_df.index)\n",
    "    high_df.index = pd.to_datetime(high_df.index)\n",
    "    low_df.index = pd.to_datetime(low_df.index)\n",
    "    data_df = pd.DataFrame(index = close_df.index)\n",
    "    data_df['close'] = close_df[stock]\n",
    "    data_df['high'] = high_df[stock]\n",
    "    data_df['low'] = low_df[stock]\n",
    "    data_df = data_df[data_df.index >= pd.to_datetime('2020-10-01')]\n",
    "    return data_df\n",
    "# data_df = get_csv_data(stock = '000009.XSHE')"
   ]
  },
  {
   "cell_type": "code",
   "execution_count": 3,
   "metadata": {
    "ExecuteTime": {
     "end_time": "2022-01-17T07:27:00.992244Z",
     "start_time": "2022-01-17T07:27:00.983269Z"
    }
   },
   "outputs": [],
   "source": [
    "def macd_generator(day) : \n",
    "    \"\"\"\n",
    "    由收盘价获取不同时间周期day下的macd数据\n",
    "    首先计算EMA指数平均数指标，再通过EMA计算MACD\n",
    "    生成新的MACD列添加到data_df中\n",
    "    由于EMA的计算需要用到过去的EMA数据，这里从2020-10-01开始计算EMA并会在最后截取2021-01-01之后的结果以保证尽可能小的消除初始值的影响\n",
    "    \"\"\"\n",
    "    data_df['ema_30'] = data_df['close']\n",
    "    data_df['ema_50'] = data_df['close']\n",
    "    data_df['ema_9'] = data_df['close']\n",
    "    for i in range(day, len(data_df)) : \n",
    "        data_df['ema_30'].iloc[i] = (2*data_df['close'].iloc[i] + (30-1)*data_df['ema_30'].iloc[i-day]) / (30+1)\n",
    "        data_df['ema_50'].iloc[i] = (2*data_df['close'].iloc[i] + (50-1)*data_df['ema_50'].iloc[i-day]) / (50+1)\n",
    "        data_df['ema_9'].iloc[i] = (2*data_df['close'].iloc[i] + (9-1)*data_df['ema_9'].iloc[i-day]) / (9+1)\n",
    "    a,b,c = 9,30,50    \n",
    "    data_df['macd_'+str(day)] = (-(a-1)/(a-b) + (a-1)/(a-c))*2 * data_df['ema_9'] + \\\n",
    "        2*(1 + (b-1)/(a-b)) * data_df['ema_30'] + 2*(-1 - (c-1)/(a-c)) * data_df['ema_50']   \n",
    "\n",
    "# macd_generator(60)\n",
    "# macd_generator(15)"
   ]
  },
  {
   "cell_type": "markdown",
   "metadata": {},
   "source": [
    "## get k-line data\n",
    "仿照箱线图，获取不同时间周期下的开盘收盘价，最高最低价"
   ]
  },
  {
   "cell_type": "code",
   "execution_count": 4,
   "metadata": {
    "ExecuteTime": {
     "end_time": "2022-01-17T07:27:01.010197Z",
     "start_time": "2022-01-17T07:27:01.005210Z"
    }
   },
   "outputs": [],
   "source": [
    "def get_data(query_time, time_delta, type_ = 'close'):\n",
    "    \"\"\"\n",
    "    给定股票，开始时间，时间间隔，返回过去time_delta分钟里的close,open,high,low\n",
    "    query_time:'2016-01-04 09:32:00', time_delta:int\n",
    "    \"\"\"\n",
    "#     query_time = pd.to_datetime(query_time)\n",
    "    if type_ == 'open' : \n",
    "        return data_df.loc[query_time - pd.Timedelta(str(time_delta) + 'minutes'), 'close']\n",
    "    if type_ == 'close' : \n",
    "        return data_df.loc[query_time, 'close']\n",
    "    if type_ == 'high' : \n",
    "        return data_df.loc[query_time - pd.Timedelta(str(time_delta + 1) + 'minutes'): query_time, 'high'].max()\n",
    "    if type_ == 'low' : \n",
    "        return data_df.loc[query_time - pd.Timedelta(str(time_delta + 1) + 'minutes'): query_time, 'low'].min()"
   ]
  },
  {
   "cell_type": "markdown",
   "metadata": {},
   "source": [
    "## signal 1\n",
    "在60分钟上，计算MACD(30,50,9)，大于0则BK1=1、SK1=0\t；否则BK1=0、SK1=1。"
   ]
  },
  {
   "cell_type": "code",
   "execution_count": 5,
   "metadata": {
    "ExecuteTime": {
     "end_time": "2022-01-17T07:27:01.051087Z",
     "start_time": "2022-01-17T07:27:01.046101Z"
    }
   },
   "outputs": [],
   "source": [
    "def signal_1() : \n",
    "    signal_df = pd.DataFrame(data_df.macd_60 , index = data_df.index)\n",
    "    signal_df['bk1'] = 1\n",
    "    signal_df['sk1'] = 0\n",
    "    signal_df.loc[signal_df['macd_60']<0,'bk1'] = 0\n",
    "    signal_df.loc[signal_df['macd_60']<0,'sk1'] = 1\n",
    "    return signal_df[['bk1','sk1']]\n",
    "# signal_df_1 = signal_1()"
   ]
  },
  {
   "cell_type": "code",
   "execution_count": null,
   "metadata": {},
   "outputs": [],
   "source": []
  },
  {
   "cell_type": "markdown",
   "metadata": {},
   "source": [
    "## signal 2\n",
    "在15分钟上，若最近一次为底分型，其右K线收盘价高于前一次底分型的右K线收盘价（股价不创新低），或虽然其右K线收盘价低于前一次底分型的右K线收盘价，但MACD(30,50,9)柱线高于上次（底背离），则BK2=1、SK2=0；\n",
    "\n",
    "反之若最近一次为顶分型，其右K线收盘价低于前一次顶分型的右K线收盘价（股价不创新高），或虽然其右K线收盘价高于前一次顶分型的右K线收盘价，但MACD(30,50,9)柱线低于上次（顶背离），则BK2=0、SK2=1。\n"
   ]
  },
  {
   "cell_type": "code",
   "execution_count": 6,
   "metadata": {
    "ExecuteTime": {
     "end_time": "2022-01-17T07:27:01.687696Z",
     "start_time": "2022-01-17T07:27:01.670743Z"
    }
   },
   "outputs": [],
   "source": [
    "def signal_2(): \n",
    "    signal_df = pd.DataFrame(data_df.macd_15 , index = data_df.index)\n",
    "    signal_df['date'] = signal_df.index\n",
    "    signal_df['close'] = signal_df['date'].apply(get_data, args = (15,'close'))\n",
    "    signal_df['high'] = signal_df['date'].apply(get_data, args = (15,'high'))\n",
    "    signal_df['low'] = signal_df['date'].apply(get_data, args = (15,'low'))\n",
    "    \n",
    "    signal_df['type'] = None\n",
    "    for i in range(15,len(signal_df)) : \n",
    "        if signal_df['high'][i-15] > signal_df['high'][i] and signal_df['high'][i-15] > signal_df['high'][i-30] and\\\n",
    "                   signal_df['low'][i-15] > signal_df['low'][i] and signal_df['low'][i-15] > signal_df['low'][i-30] :\n",
    "            \n",
    "            signal_df['type'].iloc[i] = 'top'\n",
    "            \n",
    "        elif signal_df['high'][i-15] < signal_df['high'][i] and signal_df['high'][i-15] < signal_df['high'][i-30] and\\\n",
    "                     signal_df['low'][i-15] < signal_df['low'][i] and signal_df['low'][i-15] < signal_df['low'][i-30] :\n",
    "            \n",
    "            signal_df['type'].iloc[i] = 'bot'\n",
    "\n",
    "    data_dict = {}\n",
    "    signal_df = signal_df.reset_index(drop=True)\n",
    "    signal_df['bk2'] = None\n",
    "    signal_df['sk2'] = None\n",
    "    for i in range(15) : \n",
    "        data_dict[i] = signal_df[signal_df.index % 15 == i]\n",
    "\n",
    "        bot_df = data_dict[i][data_dict[i]['type']=='bot']\n",
    "        buy_df = bot_df[(bot_df['close'].diff()>0) | (bot_df['macd_15'].diff()>0)]\n",
    "        data_dict[i].loc[buy_df.index, 'bk2'] = 1\n",
    "        data_dict[i].loc[buy_df.index, 'sk2'] = 0\n",
    "\n",
    "        bot_df = data_dict[i][data_dict[i]['type']=='top']\n",
    "        sell_df = bot_df[(bot_df['close'].diff()<0) | (bot_df['macd_15'].diff()<0)]\n",
    "        data_dict[i].loc[sell_df.index, 'bk2'] = 0\n",
    "        data_dict[i].loc[sell_df.index, 'sk2'] = 1\n",
    "\n",
    "        data_dict[i]['bk2'] = data_dict[i]['bk2'].fillna(method='ffill')\n",
    "        data_dict[i]['sk2'] = data_dict[i]['sk2'].fillna(method='ffill')\n",
    "\n",
    "\n",
    "        signal_df.loc[data_dict[i].index,'bk2'] = data_dict[i]['bk2']\n",
    "        signal_df.loc[data_dict[i].index,'sk2'] = data_dict[i]['sk2']\n",
    "    signal_df = signal_df.set_index('date')\n",
    "    return signal_df[['bk2','sk2']]\n",
    "# signal_df_2 = signal_2()        "
   ]
  },
  {
   "cell_type": "markdown",
   "metadata": {},
   "source": [
    "## signal 3\n",
    "在4分钟上，若最高价高于前一根K线最高价+常数参数m，则BK3=1、SK3=0；若最低价低于前一根K线最低价-常数参数m，则BK3=0、SK3=1"
   ]
  },
  {
   "cell_type": "code",
   "execution_count": 7,
   "metadata": {
    "ExecuteTime": {
     "end_time": "2022-01-17T07:27:02.340936Z",
     "start_time": "2022-01-17T07:27:02.333951Z"
    }
   },
   "outputs": [],
   "source": [
    "def signal_3(m=0.01):\n",
    "    m = 0\n",
    "    signal_df = pd.DataFrame(data_df.macd_15 , index = data_df.index)\n",
    "    signal_df['date'] = signal_df.index\n",
    "    signal_df['high'] = signal_df['date'].apply(get_data, args = (4,'high'))\n",
    "    signal_df['low'] = signal_df['date'].apply(get_data, args = (4,'low'))\n",
    "\n",
    "    signal_df['bk3'] = None\n",
    "    signal_df['sk3'] = None\n",
    "    for i in range(4,len(signal_df)) : \n",
    "        if signal_df['high'][i] > signal_df['high'][i-4] + m :\n",
    "    #        signal_df['close'][i] < signal_df['close'][i-2] : \n",
    "            signal_df.loc[signal_df.index[i],'bk3'] = 1\n",
    "            signal_df.loc[signal_df.index[i],'sk3'] = 0\n",
    "        elif signal_df['low'][i] < signal_df['low'][i-4] - m :\n",
    "    #          signal_df['close'][i] > signal_df['close'][i-2] : \n",
    "            signal_df.loc[signal_df.index[i],'bk3'] = 0\n",
    "            signal_df.loc[signal_df.index[i],'sk3'] = 1\n",
    "    return signal_df[['bk3','sk3']]\n",
    "# signal_df_3 = signal_3()"
   ]
  },
  {
   "cell_type": "code",
   "execution_count": null,
   "metadata": {},
   "outputs": [],
   "source": []
  },
  {
   "cell_type": "markdown",
   "metadata": {},
   "source": [
    "## calculate and trade"
   ]
  },
  {
   "cell_type": "code",
   "execution_count": 8,
   "metadata": {
    "ExecuteTime": {
     "end_time": "2022-01-14T09:12:15.022969Z",
     "start_time": "2022-01-14T09:12:15.009005Z"
    }
   },
   "outputs": [],
   "source": [
    "def trade_analysis(stock, m):\n",
    "    \"\"\"\n",
    "    给定股票stock和参数m，获取2021-01-01之后的该策略交易收益折线图\n",
    "    \"\"\"\n",
    "    # 生成周期为15min和60min的MACD列\n",
    "    macd_generator(60)\n",
    "    macd_generator(15)\n",
    "    # 生成60min，15min，4min三种周期下的信号\n",
    "    signal_df_1 = signal_1()\n",
    "    signal_df_2 = signal_2()\n",
    "    signal_df_3 = signal_3(m=m)\n",
    "\n",
    "    # 将三种信号合并到一张dataframe上，对于bk全为1的设置交易信号为买入1，反之为卖出信号0\n",
    "    signal_df = pd.concat([signal_df_1,signal_df_2,signal_df_3], axis=1)\n",
    "    buy_df = signal_df[(signal_df['bk1']==1)&(signal_df['bk2']==1)&(signal_df['bk3']==1)]\n",
    "    sell_df = signal_df[(signal_df['bk1']==0)&(signal_df['bk2']==0)&(signal_df['bk3']==0)]\n",
    "\n",
    "    capacity = pd.DataFrame(index = signal_df.index)\n",
    "    capacity['signal'] = None\n",
    "    capacity.loc[buy_df.index,'signal'] = 1\n",
    "    capacity.loc[sell_df.index,'signal'] = 0\n",
    "    capacity = capacity[capacity.index >= pd.to_datetime('2021-01-01')]\n",
    "\n",
    "    # 构建交易回测记录，每min循环，每日平仓\n",
    "    capacity['close'] = data_df['close']\n",
    "    capacity['cash'] = 0   # 现金\n",
    "    capacity['stock_shares'] = 0   # 持有股份数\n",
    "    capacity['total_capacity'] = 0   # 持股现值+现金\n",
    "    \n",
    "    for i in range(1,len(capacity)-1):\n",
    "        capacity.loc[capacity.index[i],'cash'] = capacity.loc[capacity.index[i-1],'cash']\n",
    "        capacity.loc[capacity.index[i],'stock_shares'] = capacity.loc[capacity.index[i-1],'stock_shares']\n",
    "        if capacity.index[i].day != capacity.index[i+1].day :   # 每日平仓\n",
    "            capacity.loc[capacity.index[i],'cash'] += capacity.loc[capacity.index[i],'stock_shares'] * capacity.loc[capacity.index[i],'close']\n",
    "            capacity.loc[capacity.index[i],'stock_shares'] = 0\n",
    "        if capacity.loc[capacity.index[i],'signal'] == 1 :      # 买入信号\n",
    "            capacity.loc[capacity.index[i],'cash'] -= capacity.loc[capacity.index[i],'close'] * 1\n",
    "            capacity.loc[capacity.index[i],'stock_shares'] += 1\n",
    "        elif capacity.loc[capacity.index[i],'signal'] == 0 :    # 卖出信号\n",
    "            capacity.loc[capacity.index[i],'cash'] += capacity.loc[capacity.index[i],'close'] * 1\n",
    "            capacity.loc[capacity.index[i],'stock_shares'] -= 1\n",
    "\n",
    "        capacity.loc[capacity.index[i],'total_capacity'] = capacity.loc[capacity.index[i],'cash'] + \\\n",
    "                                                    capacity.loc[capacity.index[i],'stock_shares'] * capacity.loc[capacity.index[i],'close']\n",
    "\n",
    "    print('################')\n",
    "    print(stock, m)\n",
    "    capacity['total_capacity'][:-2].plot()\n",
    "    plt.title(stock+' with m = '+str(m))\n",
    "    plt.xlabel(\"Time\")\n",
    "    plt.ylabel(\"Capital\")\n",
    "    plt.show()"
   ]
  },
  {
   "cell_type": "code",
   "execution_count": 9,
   "metadata": {
    "ExecuteTime": {
     "end_time": "2022-01-17T07:27:18.604034Z",
     "start_time": "2022-01-17T07:27:18.599999Z"
    }
   },
   "outputs": [],
   "source": [
    "stock_list = ['000009.XSHE', '000012.XSHE', '000021.XSHE', '000027.XSHE', '000028.XSHE', \n",
    "             '000031.XSHE', '000039.XSHE', '000046.XSHE', '000050.XSHE', '000060.XSHE']"
   ]
  },
  {
   "cell_type": "code",
   "execution_count": 10,
   "metadata": {
    "ExecuteTime": {
     "end_time": "2022-01-17T07:34:08.640326Z",
     "start_time": "2022-01-17T07:27:18.787534Z"
    }
   },
   "outputs": [
    {
     "name": "stderr",
     "output_type": "stream",
     "text": [
      "D:\\Python\\Anaconda\\lib\\site-packages\\pandas\\core\\indexing.py:1732: SettingWithCopyWarning: \n",
      "A value is trying to be set on a copy of a slice from a DataFrame\n",
      "\n",
      "See the caveats in the documentation: https://pandas.pydata.org/pandas-docs/stable/user_guide/indexing.html#returning-a-view-versus-a-copy\n",
      "  self._setitem_single_block(indexer, value, name)\n",
      "D:\\Python\\Anaconda\\lib\\site-packages\\pandas\\core\\indexing.py:1817: SettingWithCopyWarning: \n",
      "A value is trying to be set on a copy of a slice from a DataFrame.\n",
      "Try using .loc[row_indexer,col_indexer] = value instead\n",
      "\n",
      "See the caveats in the documentation: https://pandas.pydata.org/pandas-docs/stable/user_guide/indexing.html#returning-a-view-versus-a-copy\n",
      "  self._setitem_single_column(loc, value, pi)\n",
      "D:\\Python\\Anaconda\\lib\\site-packages\\ipykernel_launcher.py:37: SettingWithCopyWarning: \n",
      "A value is trying to be set on a copy of a slice from a DataFrame.\n",
      "Try using .loc[row_indexer,col_indexer] = value instead\n",
      "\n",
      "See the caveats in the documentation: https://pandas.pydata.org/pandas-docs/stable/user_guide/indexing.html#returning-a-view-versus-a-copy\n",
      "D:\\Python\\Anaconda\\lib\\site-packages\\ipykernel_launcher.py:38: SettingWithCopyWarning: \n",
      "A value is trying to be set on a copy of a slice from a DataFrame.\n",
      "Try using .loc[row_indexer,col_indexer] = value instead\n",
      "\n",
      "See the caveats in the documentation: https://pandas.pydata.org/pandas-docs/stable/user_guide/indexing.html#returning-a-view-versus-a-copy\n"
     ]
    },
    {
     "name": "stdout",
     "output_type": "stream",
     "text": [
      "################\n",
      "000009.XSHE 0\n"
     ]
    },
    {
     "data": {
      "image/png": "[encoded data removed]",
      "text/plain": [
       "<Figure size 432x288 with 1 Axes>"
      ]
     },
     "metadata": {
      "needs_background": "light"
     },
     "output_type": "display_data"
    }
   ],
   "source": [
    "stock = stock_list[0]\n",
    "m = 0\n",
    "data_df = get_csv_data(stock = stock)    # 生成周期为15min和60min的MACD列\n",
    "macd_generator(60)\n",
    "macd_generator(15)\n",
    "# 生成60min，15min，4min三种周期下的信号\n",
    "signal_df_1 = signal_1()\n",
    "signal_df_2 = signal_2()\n",
    "signal_df_3 = signal_3(m=m)\n",
    "\n",
    "# 将三种信号合并到一张dataframe上，对于bk全为1的设置交易信号为买入1，反之为卖出信号0\n",
    "signal_df = pd.concat([signal_df_1,signal_df_2,signal_df_3], axis=1)\n",
    "buy_df = signal_df[(signal_df['bk1']==1)&(signal_df['bk2']==1)&(signal_df['bk3']==1)]\n",
    "sell_df = signal_df[(signal_df['bk1']==0)&(signal_df['bk2']==0)&(signal_df['bk3']==0)]\n",
    "\n",
    "capacity = pd.DataFrame(index = signal_df.index)\n",
    "capacity['signal'] = None\n",
    "capacity.loc[buy_df.index,'signal'] = 1\n",
    "capacity.loc[sell_df.index,'signal'] = 0\n",
    "capacity = capacity[capacity.index >= pd.to_datetime('2021-01-01')]\n",
    "\n",
    "# 构建交易回测记录，每min循环，每日平仓\n",
    "capacity['close'] = data_df['close']\n",
    "capacity['cash'] = 0   # 现金\n",
    "capacity['stock_shares'] = 0   # 持有股份数\n",
    "capacity['total_capacity'] = 0   # 持股现值+现金\n",
    "\n",
    "for i in range(1,len(capacity)-1):\n",
    "    capacity.loc[capacity.index[i],'cash'] = capacity.loc[capacity.index[i-1],'cash']\n",
    "    capacity.loc[capacity.index[i],'stock_shares'] = capacity.loc[capacity.index[i-1],'stock_shares']\n",
    "    if capacity.index[i].day != capacity.index[i+1].day :   # 每日平仓\n",
    "        capacity.loc[capacity.index[i],'cash'] += capacity.loc[capacity.index[i],'stock_shares'] * capacity.loc[capacity.index[i],'close']\n",
    "        capacity.loc[capacity.index[i],'stock_shares'] = 0\n",
    "    if capacity.loc[capacity.index[i],'signal'] == 1 :      # 买入信号\n",
    "        capacity.loc[capacity.index[i],'cash'] -= capacity.loc[capacity.index[i],'close'] * 1\n",
    "        capacity.loc[capacity.index[i],'stock_shares'] += 1\n",
    "    elif capacity.loc[capacity.index[i],'signal'] == 0 :    # 卖出信号\n",
    "        capacity.loc[capacity.index[i],'cash'] += capacity.loc[capacity.index[i],'close'] * 1\n",
    "        capacity.loc[capacity.index[i],'stock_shares'] -= 1\n",
    "\n",
    "    capacity.loc[capacity.index[i],'total_capacity'] = capacity.loc[capacity.index[i],'cash'] + \\\n",
    "                                                capacity.loc[capacity.index[i],'stock_shares'] * capacity.loc[capacity.index[i],'close']\n",
    "\n",
    "print('################')\n",
    "print(stock, m)\n",
    "capacity['total_capacity'][:-2].plot()\n",
    "plt.title(stock+' with m = '+str(m))\n",
    "plt.xlabel(\"Time\")\n",
    "plt.ylabel(\"Capital\")\n",
    "plt.show()"
   ]
  },
  {
   "cell_type": "markdown",
   "metadata": {},
   "source": [
    "思齐，结果很清晰。可否加个统计： 1、交易期间（年初至今或指定区间）的胜率多少，总损益多少，对应的收益率 2、上述结果可放在起始日期数据行的上面。 我说明白了么？不明白的话，随时问我。"
   ]
  },
  {
   "cell_type": "code",
   "execution_count": 43,
   "metadata": {
    "ExecuteTime": {
     "end_time": "2022-01-17T09:35:57.762735Z",
     "start_time": "2022-01-17T09:34:41.885505Z"
    }
   },
   "outputs": [
    {
     "name": "stdout",
     "output_type": "stream",
     "text": [
      "################\n",
      "000009.XSHE 0\n"
     ]
    },
    {
     "data": {
      "image/png": "[encoded data removed]",
      "text/plain": [
       "<Figure size 432x288 with 1 Axes>"
      ]
     },
     "metadata": {
      "needs_background": "light"
     },
     "output_type": "display_data"
    }
   ],
   "source": [
    "capacity = pd.DataFrame(index = signal_df.index)\n",
    "capacity['signal'] = None\n",
    "capacity.loc[buy_df.index,'signal'] = 1\n",
    "capacity.loc[sell_df.index,'signal'] = 0\n",
    "capacity = capacity[capacity.index >= pd.to_datetime('2021-01-01')]\n",
    "\n",
    "# 构建交易回测记录，每min循环，每日平仓\n",
    "capacity['close'] = data_df['close']\n",
    "capacity['cash'] = 0   # 现金\n",
    "capacity['stock_shares'] = 0   # 持有股份数\n",
    "capacity['total_capacity'] = 0   # 持股现值+现金\n",
    "capacity['date_date'] = capacity.index.date\n",
    "\n",
    "\n",
    "for i in range(1,len(capacity)-1):\n",
    "    capacity.loc[capacity.index[i],'cash'] = capacity.loc[capacity.index[i-1],'cash']\n",
    "    capacity.loc[capacity.index[i],'stock_shares'] = capacity.loc[capacity.index[i-1],'stock_shares']\n",
    "    if capacity.index[i].day != capacity.index[i+1].day :   # 每日平仓\n",
    "        capacity.loc[capacity.index[i],'cash'] += capacity.loc[capacity.index[i],'stock_shares'] * capacity.loc[capacity.index[i],'close']\n",
    "        capacity.loc[capacity.index[i],'stock_shares'] = 0\n",
    "    elif capacity.loc[capacity.index[i],'signal'] == 1 :      # 买入信号\n",
    "        capacity.loc[capacity.index[i],'cash'] -= capacity.loc[capacity.index[i],'close'] * 1\n",
    "        capacity.loc[capacity.index[i],'stock_shares'] += 1\n",
    "    elif capacity.loc[capacity.index[i],'signal'] == 0 :    # 卖出信号\n",
    "        capacity.loc[capacity.index[i],'cash'] += capacity.loc[capacity.index[i],'close'] * 1\n",
    "        capacity.loc[capacity.index[i],'stock_shares'] -= 1\n",
    "\n",
    "    capacity.loc[capacity.index[i],'total_capacity'] = capacity.loc[capacity.index[i],'cash'] + \\\n",
    "                                                capacity.loc[capacity.index[i],'stock_shares'] * capacity.loc[capacity.index[i],'close']\n",
    "\n",
    "print('################')\n",
    "print(stock, m)\n",
    "capacity['total_capacity'][:-2].plot()\n",
    "plt.title(stock+' with m = '+str(m))\n",
    "plt.xlabel(\"Time\")\n",
    "plt.ylabel(\"Capital\")\n",
    "plt.show()"
   ]
  },
  {
   "cell_type": "code",
   "execution_count": null,
   "metadata": {},
   "outputs": [],
   "source": []
  },
  {
   "cell_type": "code",
   "execution_count": null,
   "metadata": {},
   "outputs": [],
   "source": []
  },
  {
   "cell_type": "code",
   "execution_count": null,
   "metadata": {},
   "outputs": [],
   "source": []
  },
  {
   "cell_type": "code",
   "execution_count": 44,
   "metadata": {
    "ExecuteTime": {
     "end_time": "2022-01-17T09:51:19.787592Z",
     "start_time": "2022-01-17T09:51:19.752685Z"
    }
   },
   "outputs": [],
   "source": [
    "capacity = pd.DataFrame(index = signal_df.index)\n",
    "capacity['signal'] = 0\n",
    "capacity.loc[buy_df.index,'signal'] = 1\n",
    "capacity.loc[sell_df.index,'signal'] = -1\n",
    "capacity = capacity[capacity.index >= pd.to_datetime('2021-01-01')]\n",
    "\n",
    "# 构建交易回测记录，每min循环，每日平仓\n",
    "capacity['close'] = data_df['close']\n",
    "capacity['cash'] = 0   # 现金\n",
    "capacity['stock_shares'] = 0   # 持有股份数\n",
    "capacity['delta_change'] = 0 \n",
    "capacity['total_capacity'] = 0   # 持股现值+现金\n",
    "capacity['date_date'] = capacity.index.date\n",
    "\n",
    "\n",
    "grouped = capacity.groupby(by='date_date')\n",
    "for key, daily_df in grouped:\n",
    "    daily_df['stock_shares'] = 1 * daily_df['signal'] # 1:1, -1:-1\n",
    "    daily_df['cash'] = - daily_df['stock_shares'] * daily_df['close'] # 1: -x; -1: x\n",
    "    daily_df['delta_change'] = daily_df['stock_shares'] * daily_df.iloc[-1]['close'] + daily_df['cash']\n",
    "\n",
    "    daily_df.loc[daily_df.index[-1], 'stock_shares'] = - daily_df.loc[daily_df.index[:-1], 'stock_shares'].sum()\n",
    "    daily_df.loc[daily_df.index[-1], 'cash'] = - daily_df.loc[daily_df.index[-1], 'stock_shares'] * daily_df.loc[daily_df.index[-1], 'close']\n",
    "    \n",
    "    \n",
    "    capacity.loc[daily_df.index] = daily_df\n",
    "capacity['stock_shares'] = capacity['stock_shares'].cumsum()\n",
    "capacity['cash'] = capacity['cash'].cumsum()\n",
    "capacity['total_capacity'] = capacity['cash'] + capacity['stock_shares'] * capacity['close']\n",
    "\n",
    "\n",
    "win = len(capacity[capacity['delta_change']>0])\n",
    "lose = len(capacity[capacity['delta_change']<0])\n",
    "rate = win/(win+lose)\n",
    "print('胜率：',rate)\n",
    "\n",
    "print('################')\n",
    "print(stock, m)\n",
    "capacity['total_capacity'][:-2].plot()\n",
    "plt.title(stock+' with m = '+str(m))\n",
    "plt.xlabel(\"Time\")\n",
    "plt.ylabel(\"Capital\")\n",
    "plt.show()"
   ]
  },
  {
   "cell_type": "code",
   "execution_count": 144,
   "metadata": {
    "ExecuteTime": {
     "end_time": "2022-01-17T10:46:17.729047Z",
     "start_time": "2022-01-17T10:46:17.712128Z"
    }
   },
   "outputs": [
    {
     "data": {
      "text/html": [
       "<div>\n",
       "<style scoped>\n",
       "    .dataframe tbody tr th:only-of-type {\n",
       "        vertical-align: middle;\n",
       "    }\n",
       "\n",
       "    .dataframe tbody tr th {\n",
       "        vertical-align: top;\n",
       "    }\n",
       "\n",
       "    .dataframe thead th {\n",
       "        text-align: right;\n",
       "    }\n",
       "</style>\n",
       "<table border=\"1\" class=\"dataframe\">\n",
       "  <thead>\n",
       "    <tr style=\"text-align: right;\">\n",
       "      <th></th>\n",
       "      <th>signal</th>\n",
       "      <th>close</th>\n",
       "      <th>cash</th>\n",
       "      <th>stock_shares</th>\n",
       "      <th>total_capacity</th>\n",
       "      <th>date_date</th>\n",
       "      <th>delta_change</th>\n",
       "    </tr>\n",
       "    <tr>\n",
       "      <th>date</th>\n",
       "      <th></th>\n",
       "      <th></th>\n",
       "      <th></th>\n",
       "      <th></th>\n",
       "      <th></th>\n",
       "      <th></th>\n",
       "      <th></th>\n",
       "    </tr>\n",
       "  </thead>\n",
       "  <tbody>\n",
       "    <tr>\n",
       "      <th>2021-01-04 10:10:00</th>\n",
       "      <td>1.0</td>\n",
       "      <td>78.27</td>\n",
       "      <td>-1227.44</td>\n",
       "      <td>16.0</td>\n",
       "      <td>24.88</td>\n",
       "      <td>2021-01-04</td>\n",
       "      <td>-0.1</td>\n",
       "    </tr>\n",
       "    <tr>\n",
       "      <th>2021-01-04 11:30:00</th>\n",
       "      <td>1.0</td>\n",
       "      <td>78.67</td>\n",
       "      <td>-1306.11</td>\n",
       "      <td>17.0</td>\n",
       "      <td>31.28</td>\n",
       "      <td>2021-01-04</td>\n",
       "      <td>-0.5</td>\n",
       "    </tr>\n",
       "    <tr>\n",
       "      <th>2021-01-04 13:01:00</th>\n",
       "      <td>1.0</td>\n",
       "      <td>78.57</td>\n",
       "      <td>-1384.68</td>\n",
       "      <td>18.0</td>\n",
       "      <td>29.58</td>\n",
       "      <td>2021-01-04</td>\n",
       "      <td>-0.4</td>\n",
       "    </tr>\n",
       "    <tr>\n",
       "      <th>2021-01-04 13:05:00</th>\n",
       "      <td>1.0</td>\n",
       "      <td>78.37</td>\n",
       "      <td>-1463.05</td>\n",
       "      <td>19.0</td>\n",
       "      <td>25.98</td>\n",
       "      <td>2021-01-04</td>\n",
       "      <td>-0.2</td>\n",
       "    </tr>\n",
       "    <tr>\n",
       "      <th>2021-01-04 13:30:00</th>\n",
       "      <td>1.0</td>\n",
       "      <td>78.47</td>\n",
       "      <td>-1541.52</td>\n",
       "      <td>20.0</td>\n",
       "      <td>27.88</td>\n",
       "      <td>2021-01-04</td>\n",
       "      <td>-0.3</td>\n",
       "    </tr>\n",
       "    <tr>\n",
       "      <th>...</th>\n",
       "      <td>...</td>\n",
       "      <td>...</td>\n",
       "      <td>...</td>\n",
       "      <td>...</td>\n",
       "      <td>...</td>\n",
       "      <td>...</td>\n",
       "      <td>...</td>\n",
       "    </tr>\n",
       "    <tr>\n",
       "      <th>2021-12-20 13:05:00</th>\n",
       "      <td>-1.0</td>\n",
       "      <td>150.07</td>\n",
       "      <td>11918.68</td>\n",
       "      <td>-55.0</td>\n",
       "      <td>3664.83</td>\n",
       "      <td>2021-12-20</td>\n",
       "      <td>-0.2</td>\n",
       "    </tr>\n",
       "    <tr>\n",
       "      <th>2021-12-20 13:06:00</th>\n",
       "      <td>-1.0</td>\n",
       "      <td>149.87</td>\n",
       "      <td>12068.55</td>\n",
       "      <td>-56.0</td>\n",
       "      <td>3675.83</td>\n",
       "      <td>2021-12-20</td>\n",
       "      <td>-0.4</td>\n",
       "    </tr>\n",
       "    <tr>\n",
       "      <th>2021-12-20 14:52:00</th>\n",
       "      <td>-1.0</td>\n",
       "      <td>150.07</td>\n",
       "      <td>17338.84</td>\n",
       "      <td>-91.0</td>\n",
       "      <td>3682.47</td>\n",
       "      <td>2021-12-20</td>\n",
       "      <td>-0.2</td>\n",
       "    </tr>\n",
       "    <tr>\n",
       "      <th>2021-12-20 14:53:00</th>\n",
       "      <td>-1.0</td>\n",
       "      <td>150.17</td>\n",
       "      <td>17489.01</td>\n",
       "      <td>-92.0</td>\n",
       "      <td>3673.37</td>\n",
       "      <td>2021-12-20</td>\n",
       "      <td>-0.1</td>\n",
       "    </tr>\n",
       "    <tr>\n",
       "      <th>2021-12-20 14:55:00</th>\n",
       "      <td>-1.0</td>\n",
       "      <td>150.17</td>\n",
       "      <td>17789.45</td>\n",
       "      <td>-94.0</td>\n",
       "      <td>3673.47</td>\n",
       "      <td>2021-12-20</td>\n",
       "      <td>-0.1</td>\n",
       "    </tr>\n",
       "  </tbody>\n",
       "</table>\n",
       "<p>4117 rows × 7 columns</p>\n",
       "</div>"
      ],
      "text/plain": [
       "                     signal   close      cash  stock_shares  total_capacity  \\\n",
       "date                                                                          \n",
       "2021-01-04 10:10:00     1.0   78.27  -1227.44          16.0           24.88   \n",
       "2021-01-04 11:30:00     1.0   78.67  -1306.11          17.0           31.28   \n",
       "2021-01-04 13:01:00     1.0   78.57  -1384.68          18.0           29.58   \n",
       "2021-01-04 13:05:00     1.0   78.37  -1463.05          19.0           25.98   \n",
       "2021-01-04 13:30:00     1.0   78.47  -1541.52          20.0           27.88   \n",
       "...                     ...     ...       ...           ...             ...   \n",
       "2021-12-20 13:05:00    -1.0  150.07  11918.68         -55.0         3664.83   \n",
       "2021-12-20 13:06:00    -1.0  149.87  12068.55         -56.0         3675.83   \n",
       "2021-12-20 14:52:00    -1.0  150.07  17338.84         -91.0         3682.47   \n",
       "2021-12-20 14:53:00    -1.0  150.17  17489.01         -92.0         3673.37   \n",
       "2021-12-20 14:55:00    -1.0  150.17  17789.45         -94.0         3673.47   \n",
       "\n",
       "                      date_date  delta_change  \n",
       "date                                           \n",
       "2021-01-04 10:10:00  2021-01-04          -0.1  \n",
       "2021-01-04 11:30:00  2021-01-04          -0.5  \n",
       "2021-01-04 13:01:00  2021-01-04          -0.4  \n",
       "2021-01-04 13:05:00  2021-01-04          -0.2  \n",
       "2021-01-04 13:30:00  2021-01-04          -0.3  \n",
       "...                         ...           ...  \n",
       "2021-12-20 13:05:00  2021-12-20          -0.2  \n",
       "2021-12-20 13:06:00  2021-12-20          -0.4  \n",
       "2021-12-20 14:52:00  2021-12-20          -0.2  \n",
       "2021-12-20 14:53:00  2021-12-20          -0.1  \n",
       "2021-12-20 14:55:00  2021-12-20          -0.1  \n",
       "\n",
       "[4117 rows x 7 columns]"
      ]
     },
     "execution_count": 144,
     "metadata": {},
     "output_type": "execute_result"
    }
   ],
   "source": [
    "capacity[capacity['delta_change']<0]"
   ]
  },
  {
   "cell_type": "code",
   "execution_count": 138,
   "metadata": {
    "ExecuteTime": {
     "end_time": "2022-01-17T10:45:06.609672Z",
     "start_time": "2022-01-17T10:45:06.294472Z"
    }
   },
   "outputs": [
    {
     "data": {
      "text/plain": [
       "<AxesSubplot:xlabel='date'>"
      ]
     },
     "execution_count": 138,
     "metadata": {},
     "output_type": "execute_result"
    },
    {
     "data": {
      "image/png": "[encoded data removed]",
      "text/plain": [
       "<Figure size 432x288 with 1 Axes>"
      ]
     },
     "metadata": {
      "needs_background": "light"
     },
     "output_type": "display_data"
    }
   ],
   "source": [
    "capacity['total_capacity'].plot()"
   ]
  },
  {
   "cell_type": "code",
   "execution_count": 127,
   "metadata": {
    "ExecuteTime": {
     "end_time": "2022-01-17T10:42:35.262060Z",
     "start_time": "2022-01-17T10:42:35.249095Z"
    }
   },
   "outputs": [],
   "source": [
    "    daily_df['stock_shares'] = daily_df['stock_shares'].cumsum()\n",
    "    daily_df['cash'] = daily_df['cash'].cumsum()\n",
    "\n",
    "    daily_df.loc[daily_df.index[-1], 'stock_shares'] = 0\n",
    "    daily_df.loc[daily_df.index[-1], 'cash'] = daily_df.loc[daily_df.index[-2], 'cash']\\\n",
    "                        + daily_df.loc[daily_df.index[-2], 'stock_shares'] * daily_df.loc[daily_df.index[-1], 'close']\n",
    "#     daily_df['total_capacity'] = daily_df['delta_cash'] + \n",
    "    "
   ]
  },
  {
   "cell_type": "code",
   "execution_count": 119,
   "metadata": {
    "ExecuteTime": {
     "end_time": "2022-01-17T10:40:26.019709Z",
     "start_time": "2022-01-17T10:40:26.008739Z"
    }
   },
   "outputs": [],
   "source": [
    "\n",
    "\n",
    "daily_df['total_capacity'] = daily_df['cash'] + daily_df['stock_shares'] * daily_df['close']\n",
    "# daily_df.loc[daily_df.index[-1], 'total_capacity'] = daily_df.loc[daily_df.index[-2], 'total_capacity']"
   ]
  },
  {
   "cell_type": "code",
   "execution_count": 136,
   "metadata": {
    "ExecuteTime": {
     "end_time": "2022-01-17T10:44:22.205015Z",
     "start_time": "2022-01-17T10:44:22.190055Z"
    }
   },
   "outputs": [
    {
     "data": {
      "text/html": [
       "<div>\n",
       "<style scoped>\n",
       "    .dataframe tbody tr th:only-of-type {\n",
       "        vertical-align: middle;\n",
       "    }\n",
       "\n",
       "    .dataframe tbody tr th {\n",
       "        vertical-align: top;\n",
       "    }\n",
       "\n",
       "    .dataframe thead th {\n",
       "        text-align: right;\n",
       "    }\n",
       "</style>\n",
       "<table border=\"1\" class=\"dataframe\">\n",
       "  <thead>\n",
       "    <tr style=\"text-align: right;\">\n",
       "      <th></th>\n",
       "      <th>signal</th>\n",
       "      <th>close</th>\n",
       "      <th>cash</th>\n",
       "      <th>stock_shares</th>\n",
       "      <th>total_capacity</th>\n",
       "      <th>date_date</th>\n",
       "      <th>delta_change</th>\n",
       "    </tr>\n",
       "    <tr>\n",
       "      <th>date</th>\n",
       "      <th></th>\n",
       "      <th></th>\n",
       "      <th></th>\n",
       "      <th></th>\n",
       "      <th></th>\n",
       "      <th></th>\n",
       "      <th></th>\n",
       "    </tr>\n",
       "  </thead>\n",
       "  <tbody>\n",
       "    <tr>\n",
       "      <th>2021-12-20 09:31:00</th>\n",
       "      <td>-1.0</td>\n",
       "      <td>152.38</td>\n",
       "      <td>152.38</td>\n",
       "      <td>-1.0</td>\n",
       "      <td>0.00</td>\n",
       "      <td>2021-12-20</td>\n",
       "      <td>2.11</td>\n",
       "    </tr>\n",
       "    <tr>\n",
       "      <th>2021-12-20 09:32:00</th>\n",
       "      <td>-1.0</td>\n",
       "      <td>152.98</td>\n",
       "      <td>152.98</td>\n",
       "      <td>-1.0</td>\n",
       "      <td>-0.60</td>\n",
       "      <td>2021-12-20</td>\n",
       "      <td>2.71</td>\n",
       "    </tr>\n",
       "    <tr>\n",
       "      <th>2021-12-20 09:33:00</th>\n",
       "      <td>0.0</td>\n",
       "      <td>153.79</td>\n",
       "      <td>-0.00</td>\n",
       "      <td>0.0</td>\n",
       "      <td>-2.22</td>\n",
       "      <td>2021-12-20</td>\n",
       "      <td>0.00</td>\n",
       "    </tr>\n",
       "    <tr>\n",
       "      <th>2021-12-20 09:34:00</th>\n",
       "      <td>-1.0</td>\n",
       "      <td>152.88</td>\n",
       "      <td>152.88</td>\n",
       "      <td>-1.0</td>\n",
       "      <td>-0.40</td>\n",
       "      <td>2021-12-20</td>\n",
       "      <td>2.61</td>\n",
       "    </tr>\n",
       "    <tr>\n",
       "      <th>2021-12-20 09:35:00</th>\n",
       "      <td>-1.0</td>\n",
       "      <td>153.19</td>\n",
       "      <td>153.19</td>\n",
       "      <td>-1.0</td>\n",
       "      <td>-1.33</td>\n",
       "      <td>2021-12-20</td>\n",
       "      <td>2.92</td>\n",
       "    </tr>\n",
       "    <tr>\n",
       "      <th>...</th>\n",
       "      <td>...</td>\n",
       "      <td>...</td>\n",
       "      <td>...</td>\n",
       "      <td>...</td>\n",
       "      <td>...</td>\n",
       "      <td>...</td>\n",
       "      <td>...</td>\n",
       "    </tr>\n",
       "    <tr>\n",
       "      <th>2021-12-20 14:55:00</th>\n",
       "      <td>-1.0</td>\n",
       "      <td>150.17</td>\n",
       "      <td>150.17</td>\n",
       "      <td>-1.0</td>\n",
       "      <td>120.34</td>\n",
       "      <td>2021-12-20</td>\n",
       "      <td>-0.10</td>\n",
       "    </tr>\n",
       "    <tr>\n",
       "      <th>2021-12-20 14:56:00</th>\n",
       "      <td>-1.0</td>\n",
       "      <td>150.27</td>\n",
       "      <td>150.27</td>\n",
       "      <td>-1.0</td>\n",
       "      <td>110.94</td>\n",
       "      <td>2021-12-20</td>\n",
       "      <td>0.00</td>\n",
       "    </tr>\n",
       "    <tr>\n",
       "      <th>2021-12-20 14:57:00</th>\n",
       "      <td>0.0</td>\n",
       "      <td>150.27</td>\n",
       "      <td>-0.00</td>\n",
       "      <td>0.0</td>\n",
       "      <td>110.94</td>\n",
       "      <td>2021-12-20</td>\n",
       "      <td>0.00</td>\n",
       "    </tr>\n",
       "    <tr>\n",
       "      <th>2021-12-20 14:58:00</th>\n",
       "      <td>0.0</td>\n",
       "      <td>150.27</td>\n",
       "      <td>-0.00</td>\n",
       "      <td>0.0</td>\n",
       "      <td>110.94</td>\n",
       "      <td>2021-12-20</td>\n",
       "      <td>0.00</td>\n",
       "    </tr>\n",
       "    <tr>\n",
       "      <th>2021-12-20 15:00:00</th>\n",
       "      <td>0.0</td>\n",
       "      <td>150.27</td>\n",
       "      <td>-14275.65</td>\n",
       "      <td>95.0</td>\n",
       "      <td>110.94</td>\n",
       "      <td>2021-12-20</td>\n",
       "      <td>0.00</td>\n",
       "    </tr>\n",
       "  </tbody>\n",
       "</table>\n",
       "<p>239 rows × 7 columns</p>\n",
       "</div>"
      ],
      "text/plain": [
       "                     signal   close      cash  stock_shares  total_capacity  \\\n",
       "date                                                                          \n",
       "2021-12-20 09:31:00    -1.0  152.38    152.38          -1.0            0.00   \n",
       "2021-12-20 09:32:00    -1.0  152.98    152.98          -1.0           -0.60   \n",
       "2021-12-20 09:33:00     0.0  153.79     -0.00           0.0           -2.22   \n",
       "2021-12-20 09:34:00    -1.0  152.88    152.88          -1.0           -0.40   \n",
       "2021-12-20 09:35:00    -1.0  153.19    153.19          -1.0           -1.33   \n",
       "...                     ...     ...       ...           ...             ...   \n",
       "2021-12-20 14:55:00    -1.0  150.17    150.17          -1.0          120.34   \n",
       "2021-12-20 14:56:00    -1.0  150.27    150.27          -1.0          110.94   \n",
       "2021-12-20 14:57:00     0.0  150.27     -0.00           0.0          110.94   \n",
       "2021-12-20 14:58:00     0.0  150.27     -0.00           0.0          110.94   \n",
       "2021-12-20 15:00:00     0.0  150.27 -14275.65          95.0          110.94   \n",
       "\n",
       "                      date_date  delta_change  \n",
       "date                                           \n",
       "2021-12-20 09:31:00  2021-12-20          2.11  \n",
       "2021-12-20 09:32:00  2021-12-20          2.71  \n",
       "2021-12-20 09:33:00  2021-12-20          0.00  \n",
       "2021-12-20 09:34:00  2021-12-20          2.61  \n",
       "2021-12-20 09:35:00  2021-12-20          2.92  \n",
       "...                         ...           ...  \n",
       "2021-12-20 14:55:00  2021-12-20         -0.10  \n",
       "2021-12-20 14:56:00  2021-12-20          0.00  \n",
       "2021-12-20 14:57:00  2021-12-20          0.00  \n",
       "2021-12-20 14:58:00  2021-12-20          0.00  \n",
       "2021-12-20 15:00:00  2021-12-20          0.00  \n",
       "\n",
       "[239 rows x 7 columns]"
      ]
     },
     "execution_count": 136,
     "metadata": {},
     "output_type": "execute_result"
    }
   ],
   "source": [
    "daily_df"
   ]
  },
  {
   "cell_type": "code",
   "execution_count": 55,
   "metadata": {
    "ExecuteTime": {
     "end_time": "2022-01-17T10:03:07.368237Z",
     "start_time": "2022-01-17T10:03:07.353289Z"
    }
   },
   "outputs": [
    {
     "data": {
      "text/html": [
       "<div>\n",
       "<style scoped>\n",
       "    .dataframe tbody tr th:only-of-type {\n",
       "        vertical-align: middle;\n",
       "    }\n",
       "\n",
       "    .dataframe tbody tr th {\n",
       "        vertical-align: top;\n",
       "    }\n",
       "\n",
       "    .dataframe thead th {\n",
       "        text-align: right;\n",
       "    }\n",
       "</style>\n",
       "<table border=\"1\" class=\"dataframe\">\n",
       "  <thead>\n",
       "    <tr style=\"text-align: right;\">\n",
       "      <th></th>\n",
       "      <th>signal</th>\n",
       "      <th>close</th>\n",
       "      <th>cash</th>\n",
       "      <th>stock_shares</th>\n",
       "      <th>total_capacity</th>\n",
       "      <th>date_date</th>\n",
       "      <th>delta_change</th>\n",
       "    </tr>\n",
       "    <tr>\n",
       "      <th>date</th>\n",
       "      <th></th>\n",
       "      <th></th>\n",
       "      <th></th>\n",
       "      <th></th>\n",
       "      <th></th>\n",
       "      <th></th>\n",
       "      <th></th>\n",
       "    </tr>\n",
       "  </thead>\n",
       "  <tbody>\n",
       "    <tr>\n",
       "      <th>2021-12-20 09:31:00</th>\n",
       "      <td>-1</td>\n",
       "      <td>152.38</td>\n",
       "      <td>152.38</td>\n",
       "      <td>-1</td>\n",
       "      <td>0</td>\n",
       "      <td>2021-12-20</td>\n",
       "      <td>-2.11</td>\n",
       "    </tr>\n",
       "    <tr>\n",
       "      <th>2021-12-20 09:32:00</th>\n",
       "      <td>-1</td>\n",
       "      <td>152.98</td>\n",
       "      <td>152.98</td>\n",
       "      <td>-1</td>\n",
       "      <td>0</td>\n",
       "      <td>2021-12-20</td>\n",
       "      <td>-2.71</td>\n",
       "    </tr>\n",
       "    <tr>\n",
       "      <th>2021-12-20 09:33:00</th>\n",
       "      <td>0</td>\n",
       "      <td>153.79</td>\n",
       "      <td>0.00</td>\n",
       "      <td>0</td>\n",
       "      <td>0</td>\n",
       "      <td>2021-12-20</td>\n",
       "      <td>150.27</td>\n",
       "    </tr>\n",
       "    <tr>\n",
       "      <th>2021-12-20 09:34:00</th>\n",
       "      <td>-1</td>\n",
       "      <td>152.88</td>\n",
       "      <td>152.88</td>\n",
       "      <td>-1</td>\n",
       "      <td>0</td>\n",
       "      <td>2021-12-20</td>\n",
       "      <td>-2.61</td>\n",
       "    </tr>\n",
       "    <tr>\n",
       "      <th>2021-12-20 09:35:00</th>\n",
       "      <td>-1</td>\n",
       "      <td>153.19</td>\n",
       "      <td>153.19</td>\n",
       "      <td>-1</td>\n",
       "      <td>0</td>\n",
       "      <td>2021-12-20</td>\n",
       "      <td>-2.92</td>\n",
       "    </tr>\n",
       "    <tr>\n",
       "      <th>...</th>\n",
       "      <td>...</td>\n",
       "      <td>...</td>\n",
       "      <td>...</td>\n",
       "      <td>...</td>\n",
       "      <td>...</td>\n",
       "      <td>...</td>\n",
       "      <td>...</td>\n",
       "    </tr>\n",
       "    <tr>\n",
       "      <th>2021-12-20 14:55:00</th>\n",
       "      <td>-1</td>\n",
       "      <td>150.17</td>\n",
       "      <td>150.17</td>\n",
       "      <td>-1</td>\n",
       "      <td>0</td>\n",
       "      <td>2021-12-20</td>\n",
       "      <td>0.10</td>\n",
       "    </tr>\n",
       "    <tr>\n",
       "      <th>2021-12-20 14:56:00</th>\n",
       "      <td>-1</td>\n",
       "      <td>150.27</td>\n",
       "      <td>150.27</td>\n",
       "      <td>-1</td>\n",
       "      <td>0</td>\n",
       "      <td>2021-12-20</td>\n",
       "      <td>0.00</td>\n",
       "    </tr>\n",
       "    <tr>\n",
       "      <th>2021-12-20 14:57:00</th>\n",
       "      <td>0</td>\n",
       "      <td>150.27</td>\n",
       "      <td>0.00</td>\n",
       "      <td>0</td>\n",
       "      <td>0</td>\n",
       "      <td>2021-12-20</td>\n",
       "      <td>150.27</td>\n",
       "    </tr>\n",
       "    <tr>\n",
       "      <th>2021-12-20 14:58:00</th>\n",
       "      <td>0</td>\n",
       "      <td>150.27</td>\n",
       "      <td>0.00</td>\n",
       "      <td>0</td>\n",
       "      <td>0</td>\n",
       "      <td>2021-12-20</td>\n",
       "      <td>150.27</td>\n",
       "    </tr>\n",
       "    <tr>\n",
       "      <th>2021-12-20 15:00:00</th>\n",
       "      <td>0</td>\n",
       "      <td>150.27</td>\n",
       "      <td>0.00</td>\n",
       "      <td>0</td>\n",
       "      <td>0</td>\n",
       "      <td>2021-12-20</td>\n",
       "      <td>150.27</td>\n",
       "    </tr>\n",
       "  </tbody>\n",
       "</table>\n",
       "<p>239 rows × 7 columns</p>\n",
       "</div>"
      ],
      "text/plain": [
       "                     signal   close    cash  stock_shares  total_capacity  \\\n",
       "date                                                                        \n",
       "2021-12-20 09:31:00      -1  152.38  152.38            -1               0   \n",
       "2021-12-20 09:32:00      -1  152.98  152.98            -1               0   \n",
       "2021-12-20 09:33:00       0  153.79    0.00             0               0   \n",
       "2021-12-20 09:34:00      -1  152.88  152.88            -1               0   \n",
       "2021-12-20 09:35:00      -1  153.19  153.19            -1               0   \n",
       "...                     ...     ...     ...           ...             ...   \n",
       "2021-12-20 14:55:00      -1  150.17  150.17            -1               0   \n",
       "2021-12-20 14:56:00      -1  150.27  150.27            -1               0   \n",
       "2021-12-20 14:57:00       0  150.27    0.00             0               0   \n",
       "2021-12-20 14:58:00       0  150.27    0.00             0               0   \n",
       "2021-12-20 15:00:00       0  150.27    0.00             0               0   \n",
       "\n",
       "                      date_date  delta_change  \n",
       "date                                           \n",
       "2021-12-20 09:31:00  2021-12-20         -2.11  \n",
       "2021-12-20 09:32:00  2021-12-20         -2.71  \n",
       "2021-12-20 09:33:00  2021-12-20        150.27  \n",
       "2021-12-20 09:34:00  2021-12-20         -2.61  \n",
       "2021-12-20 09:35:00  2021-12-20         -2.92  \n",
       "...                         ...           ...  \n",
       "2021-12-20 14:55:00  2021-12-20          0.10  \n",
       "2021-12-20 14:56:00  2021-12-20          0.00  \n",
       "2021-12-20 14:57:00  2021-12-20        150.27  \n",
       "2021-12-20 14:58:00  2021-12-20        150.27  \n",
       "2021-12-20 15:00:00  2021-12-20        150.27  \n",
       "\n",
       "[239 rows x 7 columns]"
      ]
     },
     "execution_count": 55,
     "metadata": {},
     "output_type": "execute_result"
    }
   ],
   "source": [
    "daily_df"
   ]
  },
  {
   "cell_type": "code",
   "execution_count": null,
   "metadata": {},
   "outputs": [],
   "source": [
    "for i in range(1,len(capacity)-1):\n",
    "    capacity.loc[capacity.index[i],'cash'] = capacity.loc[capacity.index[i-1],'cash']\n",
    "    capacity.loc[capacity.index[i],'stock_shares'] = capacity.loc[capacity.index[i-1],'stock_shares']\n",
    "    if capacity.index[i].day != capacity.index[i+1].day :   # 每日平仓\n",
    "        capacity.loc[capacity.index[i],'cash'] += capacity.loc[capacity.index[i],'stock_shares'] * capacity.loc[capacity.index[i],'close']\n",
    "        capacity.loc[capacity.index[i],'stock_shares'] = 0\n",
    "    elif capacity.loc[capacity.index[i],'signal'] == 1 :      # 买入信号\n",
    "        capacity.loc[capacity.index[i],'cash'] -= capacity.loc[capacity.index[i],'close'] * 1\n",
    "        capacity.loc[capacity.index[i],'stock_shares'] += 1\n",
    "    elif capacity.loc[capacity.index[i],'signal'] == 0 :    # 卖出信号\n",
    "        capacity.loc[capacity.index[i],'cash'] += capacity.loc[capacity.index[i],'close'] * 1\n",
    "        capacity.loc[capacity.index[i],'stock_shares'] -= 1\n",
    "\n",
    "    capacity.loc[capacity.index[i],'total_capacity'] = capacity.loc[capacity.index[i],'cash'] + \\\n",
    "                                                capacity.loc[capacity.index[i],'stock_shares'] * capacity.loc[capacity.index[i],'close']\n"
   ]
  },
  {
   "cell_type": "code",
   "execution_count": null,
   "metadata": {},
   "outputs": [],
   "source": []
  },
  {
   "cell_type": "code",
   "execution_count": null,
   "metadata": {},
   "outputs": [],
   "source": []
  },
  {
   "cell_type": "code",
   "execution_count": null,
   "metadata": {},
   "outputs": [],
   "source": []
  },
  {
   "cell_type": "code",
   "execution_count": null,
   "metadata": {},
   "outputs": [],
   "source": [
    "for i in range(1,len(capacity)-1):\n",
    "    if capacity.loc[capacity.index[i],'signal'] == 1 :      # 买入信号\n",
    "        stock_capital = (capacity.loc[capacity.index[i],'stock_shares'] - capacity.loc[capacity.index[i-1],'stock_shares']) * \\\n",
    "                        capacity.loc[capacity.index[i],'close']\n",
    "        cash_capital = capacity.loc[capacity.index[i],'cash'] - capacity.loc[capacity.index[i-1],'cash']\n",
    "        \n",
    "        capacity.loc[capacity.index[i],'cash'] -= capacity.loc[capacity.index[i],'close'] * 1\n",
    "        capacity.loc[capacity.index[i],'stock_shares'] += 1\n",
    "    elif capacity.loc[capacity.index[i],'signal'] == 0 :    # 卖出信号\n",
    "        capacity.loc[capacity.index[i],'cash'] += capacity.loc[capacity.index[i],'close'] * 1\n",
    "        capacity.loc[capacity.index[i],'stock_shares'] -= 1\n"
   ]
  },
  {
   "cell_type": "code",
   "execution_count": null,
   "metadata": {},
   "outputs": [],
   "source": []
  },
  {
   "cell_type": "code",
   "execution_count": 13,
   "metadata": {
    "ExecuteTime": {
     "end_time": "2022-01-14T09:23:48.633143Z",
     "start_time": "2022-01-14T09:23:48.341243Z"
    }
   },
   "outputs": [],
   "source": [
    "capacity.to_csv('capacity.csv')"
   ]
  },
  {
   "cell_type": "code",
   "execution_count": null,
   "metadata": {},
   "outputs": [],
   "source": []
  },
  {
   "cell_type": "code",
   "execution_count": null,
   "metadata": {},
   "outputs": [],
   "source": []
  },
  {
   "cell_type": "code",
   "execution_count": 10,
   "metadata": {
    "ExecuteTime": {
     "end_time": "2022-01-14T04:37:37.046611Z",
     "start_time": "2022-01-14T04:31:54.068626Z"
    }
   },
   "outputs": [
    {
     "name": "stderr",
     "output_type": "stream",
     "text": [
      "D:\\Python\\Anaconda\\lib\\site-packages\\pandas\\core\\indexing.py:1732: SettingWithCopyWarning: \n",
      "A value is trying to be set on a copy of a slice from a DataFrame\n",
      "\n",
      "See the caveats in the documentation: https://pandas.pydata.org/pandas-docs/stable/user_guide/indexing.html#returning-a-view-versus-a-copy\n",
      "  self._setitem_single_block(indexer, value, name)\n",
      "D:\\Python\\Anaconda\\lib\\site-packages\\pandas\\core\\indexing.py:1817: SettingWithCopyWarning: \n",
      "A value is trying to be set on a copy of a slice from a DataFrame.\n",
      "Try using .loc[row_indexer,col_indexer] = value instead\n",
      "\n",
      "See the caveats in the documentation: https://pandas.pydata.org/pandas-docs/stable/user_guide/indexing.html#returning-a-view-versus-a-copy\n",
      "  self._setitem_single_column(loc, value, pi)\n",
      "D:\\Python\\Anaconda\\lib\\site-packages\\ipykernel_launcher.py:37: SettingWithCopyWarning: \n",
      "A value is trying to be set on a copy of a slice from a DataFrame.\n",
      "Try using .loc[row_indexer,col_indexer] = value instead\n",
      "\n",
      "See the caveats in the documentation: https://pandas.pydata.org/pandas-docs/stable/user_guide/indexing.html#returning-a-view-versus-a-copy\n",
      "D:\\Python\\Anaconda\\lib\\site-packages\\ipykernel_launcher.py:38: SettingWithCopyWarning: \n",
      "A value is trying to be set on a copy of a slice from a DataFrame.\n",
      "Try using .loc[row_indexer,col_indexer] = value instead\n",
      "\n",
      "See the caveats in the documentation: https://pandas.pydata.org/pandas-docs/stable/user_guide/indexing.html#returning-a-view-versus-a-copy\n"
     ]
    },
    {
     "name": "stdout",
     "output_type": "stream",
     "text": [
      "################\n",
      "000009.XSHE 0\n"
     ]
    },
    {
     "data": {
      "image/png": "[encoded data removed]",
      "text/plain": [
       "<Figure size 432x288 with 1 Axes>"
      ]
     },
     "metadata": {
      "needs_background": "light"
     },
     "output_type": "display_data"
    }
   ],
   "source": [
    "stock = stock_list[0]\n",
    "data_df = get_csv_data(stock = stock)\n",
    "trade_analysis(stock, 0)"
   ]
  },
  {
   "cell_type": "raw",
   "metadata": {},
   "source": [
    "for stock in stock_list:\n",
    "    data_df = get_csv_data(stock = stock)\n",
    "    for m in [0,0.000001,0.00001,0.0001]:\n",
    "        trade_analysis(stock, m)"
   ]
  },
  {
   "cell_type": "code",
   "execution_count": null,
   "metadata": {},
   "outputs": [],
   "source": []
  },
  {
   "cell_type": "code",
   "execution_count": null,
   "metadata": {},
   "outputs": [],
   "source": []
  },
  {
   "cell_type": "code",
   "execution_count": null,
   "metadata": {},
   "outputs": [],
   "source": []
  },
  {
   "cell_type": "markdown",
   "metadata": {},
   "source": [
    "## 草稿"
   ]
  },
  {
   "cell_type": "raw",
   "metadata": {
    "ExecuteTime": {
     "end_time": "2022-01-10T08:15:07.396277Z",
     "start_time": "2022-01-10T08:15:07.390294Z"
    }
   },
   "source": [
    "close_df.loc[aa:aa+pd.Timedelta('5 minutes'), '000009.XSHE'].max()"
   ]
  },
  {
   "cell_type": "raw",
   "metadata": {
    "ExecuteTime": {
     "end_time": "2022-01-10T07:59:11.737521Z",
     "start_time": "2022-01-10T07:59:11.732523Z"
    }
   },
   "source": [
    "close_df.index[0] + pd.Timedelta('1 minutes')"
   ]
  },
  {
   "cell_type": "raw",
   "metadata": {
    "ExecuteTime": {
     "end_time": "2022-01-10T07:48:05.262268Z",
     "start_time": "2022-01-10T07:48:05.067782Z"
    }
   },
   "source": [
    "aa = pd.to_datetime(close_df['Unnamed: 0'])[0]\n",
    "aa"
   ]
  },
  {
   "cell_type": "raw",
   "metadata": {
    "ExecuteTime": {
     "end_time": "2022-01-10T07:50:46.941166Z",
     "start_time": "2022-01-10T07:50:46.936156Z"
    }
   },
   "source": [
    "(pd.to_datetime('2016-01-04 09:32:00') - aa).seconds"
   ]
  },
  {
   "cell_type": "raw",
   "metadata": {},
   "source": [
    "def get_data(stock_name, query_time, time_delta):\n",
    "    \"\"\"\n",
    "    给定股票，开始时间，时间间隔，返回close,open,high,low\n",
    "    stock_name:str, query_time:'2016-01-04 09:32:00'str, time_delta:int\n",
    "    \"\"\"\n",
    "    query_time = pd.to_datetime(query_time)\n",
    "    open_price = close_df.loc[query_time - pd.Timedelta('1 minutes'), stock_name]\n",
    "    close_price = close_df.loc[query_time + pd.Timedelta(str(time_delta) + 'minutes'), stock_name]\n",
    "    high_price = high_df.loc[query_time + pd.Timedelta(str(time_delta) + 'minutes'), stock_name].max()\n",
    "    low_price = low_df.loc[query_time + pd.Timedelta(str(time_delta) + 'minutes'), stock_name].min()\n",
    "    return open_price, close_price, high_price, low_price"
   ]
  },
  {
   "cell_type": "raw",
   "metadata": {},
   "source": [
    "class multi_reson(filter1, filter2, filter3):\n",
    "    "
   ]
  },
  {
   "cell_type": "raw",
   "metadata": {},
   "source": [
    "def macd_func():\n",
    "    \"\"\"\n",
    "    计算macd\n",
    "    \"\"\"\n",
    "    pass\n",
    "\n",
    "def difenxing_func():\n",
    "    \"\"\"\n",
    "    判别是否为底分型\n",
    "    \"\"\"\n",
    "    pass\n",
    "\n",
    "def dibeili_func():\n",
    "    \"\"\"\n",
    "    判别是否为底背离\n",
    "    \"\"\"\n",
    "    pass\n",
    "\n",
    "def dingfenxing_func():\n",
    "    \"\"\"\n",
    "    判别是否为顶分型\n",
    "    \"\"\"\n",
    "    pass\n",
    "\n",
    "def dibeili_func():\n",
    "    \"\"\"\n",
    "    判别是否为顶背离\n",
    "    \"\"\"\n",
    "    pass"
   ]
  },
  {
   "cell_type": "raw",
   "metadata": {},
   "source": [
    "close_df['Unnamed: 0'] = pd.to_datetime(close_df['Unnamed: 0'])\n",
    "high_df['Unnamed: 0'] = pd.to_datetime(high_df['Unnamed: 0'])\n",
    "low_df['Unnamed: 0'] = pd.to_datetime(low_df['Unnamed: 0'])\n",
    "close_df.rename(columns = {\"Unnamed: 0\":\"date\"}, inplace=True) \n",
    "high_df.rename(columns = {\"Unnamed: 0\":\"date\"}, inplace=True) \n",
    "low_df.rename(columns = {\"Unnamed: 0\":\"date\"}, inplace=True) \n",
    "close_df = close_df.set_index('date')\n",
    "high_df = high_df.set_index('date')\n",
    "low_df = low_df.set_index('date')\n",
    "close_df.to_csv('dataset/minute_10/close_sum.csv')\n",
    "high_df.to_csv('dataset/minute_10/high_sum.csv')\n",
    "low_df.to_csv('dataset/minute_10/low_sum.csv')"
   ]
  },
  {
   "cell_type": "raw",
   "metadata": {},
   "source": [
    "macd_60.loc[macd_60.index%4 == 0, 'date'] = macd_60[macd_60.index%4 == 0].loc[:, 'date'] + ' 10:30:00'\n",
    "macd_60.loc[macd_60.index%4 == 1, 'date'] = macd_60[macd_60.index%4 == 1].loc[:, 'date'] + ' 11:30:00'\n",
    "macd_60.loc[macd_60.index%4 == 2, 'date'] = macd_60[macd_60.index%4 == 2].loc[:, 'date'] + ' 14:00:00'\n",
    "macd_60.loc[macd_60.index%4 == 3, 'date'] = macd_60[macd_60.index%4 == 3].loc[:, 'date'] + ' 15:00:00'\n",
    "\n",
    "macd_15.loc[macd_15.index%16 == 0, 'date'] = macd_15[macd_15.index%16 == 0].loc[:, 'date'] + ' 09:45:00'\n",
    "macd_15.loc[macd_15.index%16 == 1, 'date'] = macd_15[macd_15.index%16 == 1].loc[:, 'date'] + ' 10:00:00'\n",
    "macd_15.loc[macd_15.index%16 == 2, 'date'] = macd_15[macd_15.index%16 == 2].loc[:, 'date'] + ' 10:15:00'\n",
    "macd_15.loc[macd_15.index%16 == 3, 'date'] = macd_15[macd_15.index%16 == 3].loc[:, 'date'] + ' 10:30:00'\n",
    "macd_15.loc[macd_15.index%16 == 4, 'date'] = macd_15[macd_15.index%16 == 4].loc[:, 'date'] + ' 10:45:00'\n",
    "macd_15.loc[macd_15.index%16 == 5, 'date'] = macd_15[macd_15.index%16 == 5].loc[:, 'date'] + ' 11:00:00'\n",
    "macd_15.loc[macd_15.index%16 == 6, 'date'] = macd_15[macd_15.index%16 == 6].loc[:, 'date'] + ' 11:15:00'\n",
    "macd_15.loc[macd_15.index%16 == 7, 'date'] = macd_15[macd_15.index%16 == 7].loc[:, 'date'] + ' 11:30:00'\n",
    "macd_15.loc[macd_15.index%16 == 8, 'date'] = macd_15[macd_15.index%16 == 8].loc[:, 'date'] + ' 13:15:00'\n",
    "macd_15.loc[macd_15.index%16 == 9, 'date'] = macd_15[macd_15.index%16 == 9].loc[:, 'date'] + ' 13:30:00'\n",
    "macd_15.loc[macd_15.index%16 == 10, 'date'] = macd_15[macd_15.index%16 == 10].loc[:, 'date'] + ' 13:45:00'\n",
    "macd_15.loc[macd_15.index%16 == 11, 'date'] = macd_15[macd_15.index%16 == 11].loc[:, 'date'] + ' 14:00:00'\n",
    "macd_15.loc[macd_15.index%16 == 12, 'date'] = macd_15[macd_15.index%16 == 12].loc[:, 'date'] + ' 14:15:00'\n",
    "macd_15.loc[macd_15.index%16 == 13, 'date'] = macd_15[macd_15.index%16 == 13].loc[:, 'date'] + ' 14:30:00'\n",
    "macd_15.loc[macd_15.index%16 == 14, 'date'] = macd_15[macd_15.index%16 == 14].loc[:, 'date'] + ' 14:45:00'\n",
    "macd_15.loc[macd_15.index%16 == 15, 'date'] = macd_15[macd_15.index%16 == 15].loc[:, 'date'] + ' 15:00:00'\n",
    "\n",
    "macd_15['date'] = pd.to_datetime(macd_15['date'])\n",
    "macd_60['date'] = pd.to_datetime(macd_60['date'])\n",
    "macd_15 = macd_15.set_index('date')\n",
    "macd_60 = macd_60.set_index('date')\n",
    "\n",
    "macd_15.to_csv('dataset/000001.SZ_MACD15.csv')\n",
    "macd_60.to_csv('dataset/000001.SZ_MACD60.csv')"
   ]
  },
  {
   "cell_type": "code",
   "execution_count": null,
   "metadata": {},
   "outputs": [],
   "source": []
  }
 ],
 "metadata": {
  "kernelspec": {
   "display_name": "Python 3",
   "language": "python",
   "name": "python3"
  },
  "language_info": {
   "codemirror_mode": {
    "name": "ipython",
    "version": 3
   },
   "file_extension": ".py",
   "mimetype": "text/x-python",
   "name": "python",
   "nbconvert_exporter": "python",
   "pygments_lexer": "ipython3",
   "version": "3.7.6"
  },
  "toc": {
   "base_numbering": 1,
   "nav_menu": {},
   "number_sections": true,
   "sideBar": true,
   "skip_h1_title": false,
   "title_cell": "Table of Contents",
   "title_sidebar": "Contents",
   "toc_cell": false,
   "toc_position": {},
   "toc_section_display": true,
   "toc_window_display": false
  },
  "varInspector": {
   "cols": {
    "lenName": 16,
    "lenType": 16,
    "lenVar": 40
   },
   "kernels_config": {
    "python": {
     "delete_cmd_postfix": "",
     "delete_cmd_prefix": "del ",
     "library": "var_list.py",
     "varRefreshCmd": "print(var_dic_list())"
    },
    "r": {
     "delete_cmd_postfix": ") ",
     "delete_cmd_prefix": "rm(",
     "library": "var_list.r",
     "varRefreshCmd": "cat(var_dic_list()) "
    }
   },
   "types_to_exclude": [
    "module",
    "function",
    "builtin_function_or_method",
    "instance",
    "_Feature"
   ],
   "window_display": false
  }
 },
 "nbformat": 4,
 "nbformat_minor": 4
}
