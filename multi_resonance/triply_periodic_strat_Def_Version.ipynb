{
 "cells": [
  {
   "cell_type": "code",
   "execution_count": 6,
   "metadata": {
    "ExecuteTime": {
     "end_time": "2022-01-24T13:29:16.504812Z",
     "start_time": "2022-01-24T13:25:01.596359Z"
    }
   },
   "outputs": [
    {
     "name": "stdout",
     "output_type": "stream",
     "text": [
      "0.2 0.05641764575482155 0.06328973620039903\n",
      "胜率： 0.4834608898689843\n",
      "################\n",
      "688005.XSHG 0.2\n"
     ]
    },
    {
     "data": {
      "image/png": "[encoded data removed]",
      "text/plain": [
       "<Figure size 432x288 with 1 Axes>"
      ]
     },
     "metadata": {
      "needs_background": "light"
     },
     "output_type": "display_data"
    }
   ],
   "source": [
    "import os\n",
    "os.chdir('D:/Python/Flies/Yinhe')\n",
    "import pandas as pd\n",
    "import numpy as np\n",
    "import datetime\n",
    "import matplotlib.pyplot as plt\n",
    "\n",
    "def triply_periodic_strat(stock, m):\n",
    "        \n",
    "    def get_csv_data(stock = '688005.XSHG'):\n",
    "        \"\"\"\n",
    "        给定股票，获取给股票2020-10-01之后的分钟数据：开盘价，收盘价，最高价，最低价\n",
    "        数据来自joinquant，从2020/1/2开盘到2021/12/30收盘\n",
    "        \"\"\"\n",
    "        open_df = pd.read_csv('dataset/KC50/open_sum.csv').set_index('date')\n",
    "        close_df = pd.read_csv('dataset/KC50/close_sum.csv').set_index('date')\n",
    "        high_df = pd.read_csv('dataset/KC50/high_sum.csv').set_index('date')\n",
    "        low_df = pd.read_csv('dataset/KC50/low_sum.csv').set_index('date')\n",
    "        open_df.index = pd.to_datetime(open_df.index)\n",
    "        close_df.index = pd.to_datetime(close_df.index)\n",
    "        high_df.index = pd.to_datetime(high_df.index)\n",
    "        low_df.index = pd.to_datetime(low_df.index)\n",
    "        data_df = pd.DataFrame(index = close_df.index)\n",
    "        data_df['open'] = open_df[stock]\n",
    "        data_df['close'] = close_df[stock]\n",
    "        data_df['high'] = high_df[stock]\n",
    "        data_df['low'] = low_df[stock]\n",
    "        data_df = data_df[data_df.index >= pd.to_datetime('2020-10-01')]\n",
    "        data_df['date_date'] = data_df.index.date\n",
    "        return data_df\n",
    "\n",
    "    def macd_generator(time_delta) : \n",
    "        \"\"\"\n",
    "        由收盘价获取不同时间周期time_delta下的macd数据\n",
    "        首先计算EMA指数平均数指标，再通过EMA计算MACD\n",
    "        生成新的MACD列添加到data_df中\n",
    "        由于EMA的计算需要用到过去的EMA数据，\n",
    "        这里从2020-10-01开始计算EMA并会在最后截取2021-01-01之后的结果以保证尽可能小的消除初始值的影响\n",
    "        input: 时间周期time_delta，由于60d和15d两个滤网需要用到macd数据，这里time_delta在之后会取60和15\n",
    "        \"\"\"\n",
    "        data_df['ema_30'] = data_df['close']\n",
    "        data_df['ema_50'] = data_df['close']\n",
    "        data_df['ema_9'] = data_df['close']\n",
    "        for i in range(time_delta, len(data_df)) : \n",
    "            data_df.loc[data_df.index[i],'ema_30'] = (2*data_df['close'].iloc[i] + (30-1)*data_df['ema_30'].iloc[i-time_delta]) / (30+1)\n",
    "            data_df.loc[data_df.index[i],'ema_50'] = (2*data_df['close'].iloc[i] + (50-1)*data_df['ema_50'].iloc[i-time_delta]) / (50+1)\n",
    "            data_df.loc[data_df.index[i],'ema_9'] = (2*data_df['close'].iloc[i] + (9-1)*data_df['ema_9'].iloc[i-time_delta]) / (9+1)\n",
    "        a,b,c = 9,30,50    \n",
    "        data_df['macd_'+str(time_delta)] = (-(a-1)/(a-b) + (a-1)/(a-c))*2 * data_df['ema_9'] + \\\n",
    "            2*(1 + (b-1)/(a-b)) * data_df['ema_30'] + 2*(-1 - (c-1)/(a-c)) * data_df['ema_50']   \n",
    "\n",
    "    def get_data(query_time, time_delta, type_ = 'close'):\n",
    "        \"\"\"\n",
    "        func: 仿照箱线图，给定一个时间段，获取该时间段内的开盘收盘价，最高最低价，\n",
    "            从而起到获取不同时间周期下的开盘收盘价，最高最低价的作用。\n",
    "            给定股票，开始时间，时间间隔，返回过去time_delta分钟里的close,open,high,low\n",
    "        input: query_time: '2016-01-04 09:32:00', \n",
    "            time_delta: int\n",
    "        \"\"\"\n",
    "        if type_ == 'open' : \n",
    "            return data_df.loc[query_time - pd.Timedelta(str(time_delta - 1) + 'minutes'), 'open']\n",
    "        if type_ == 'close' : \n",
    "            return data_df.loc[query_time, 'close']\n",
    "        if type_ == 'high' : \n",
    "            return data_df.loc[query_time - pd.Timedelta(str(time_delta - 1) + 'minutes'): query_time, 'high'].max()\n",
    "        if type_ == 'low' : \n",
    "            return data_df.loc[query_time - pd.Timedelta(str(time_delta - 1) + 'minutes'): query_time, 'low'].min()    \n",
    "\n",
    "    def signal_1() : \n",
    "        \"\"\"\n",
    "        在60分钟上，计算MACD(30,50,9)，大于0则BK1=1、SK1=0；否则BK1=0、SK1=1。\n",
    "        由于BK和SK成对出现，这里只考虑BK，之后的signal方法同理\n",
    "        \"\"\"\n",
    "        signal_df = pd.DataFrame(data_df.macd_60 , index = data_df.index)\n",
    "        signal_df['bk1'] = None\n",
    "        signal_df.loc[signal_df['macd_60']>0,'bk1'] = 1\n",
    "        signal_df.loc[signal_df['macd_60']<0,'bk1'] = 0\n",
    "        return signal_df[['bk1']]\n",
    "\n",
    "    def signal_2(): \n",
    "        \"\"\"\n",
    "        在15分钟上，若最近一次为底分型，其右K线收盘价高于前一次底分型的右K线收盘价（股价不创新低），\n",
    "        或虽然其右K线收盘价低于前一次底分型的右K线收盘价，但MACD(30,50,9)柱线高于上次（底背离），则BK2=1、SK2=0；\n",
    "        反之若最近一次为顶分型，其右K线收盘价低于前一次顶分型的右K线收盘价（股价不创新高），\n",
    "        或虽然其右K线收盘价高于前一次顶分型的右K线收盘价，但MACD(30,50,9)柱线低于上次（顶背离），则BK2=0、SK2=1。\n",
    "        \"\"\"\n",
    "        signal_df = pd.DataFrame(data_df.macd_15 , index = data_df.index)\n",
    "        signal_df['date'] = signal_df.index\n",
    "        signal_df['close'] = signal_df['date'].apply(get_data, args = (15,'close'))\n",
    "        signal_df['high'] = signal_df['date'].apply(get_data, args = (15,'high'))\n",
    "        signal_df['low'] = signal_df['date'].apply(get_data, args = (15,'low'))\n",
    "\n",
    "        signal_df['type'] = None\n",
    "        for i in range(15,len(signal_df)) : \n",
    "            if signal_df['high'][i-15] > signal_df['high'][i] and signal_df['high'][i-15] > signal_df['high'][i-30] and\\\n",
    "                       signal_df['low'][i-15] > signal_df['low'][i] and signal_df['low'][i-15] > signal_df['low'][i-30] :\n",
    "\n",
    "                signal_df.loc[signal_df.index[i],'type'] = 'top'\n",
    "\n",
    "            elif signal_df['high'][i-15] < signal_df['high'][i] and signal_df['high'][i-15] < signal_df['high'][i-30] and\\\n",
    "                         signal_df['low'][i-15] < signal_df['low'][i] and signal_df['low'][i-15] < signal_df['low'][i-30] :\n",
    "\n",
    "                signal_df.loc[signal_df.index[i],'type'] = 'bot'\n",
    "\n",
    "        signal_df = signal_df.reset_index(drop=True)\n",
    "        signal_df['bk2'] = None\n",
    "        for i in range(15) : \n",
    "\n",
    "            tmp_df = signal_df[signal_df.index % 15 == i]\n",
    "            tmp_df = tmp_df.copy()\n",
    "\n",
    "            bot_df = tmp_df[tmp_df['type']=='bot']\n",
    "            buy_df = bot_df[(bot_df['close'].diff()>0) | (bot_df['macd_15'].diff()>0)]\n",
    "            tmp_df.loc[buy_df.index, 'bk2'] = 1\n",
    "\n",
    "            bot_df = tmp_df[tmp_df['type']=='top']\n",
    "            sell_df = bot_df[(bot_df['close'].diff()<0) | (bot_df['macd_15'].diff()<0)]\n",
    "            tmp_df.loc[sell_df.index, 'bk2'] = 0\n",
    "\n",
    "            tmp_df['bk2'] = tmp_df['bk2'].fillna(method='ffill')\n",
    "\n",
    "\n",
    "            signal_df.loc[tmp_df.index,'bk2'] = tmp_df['bk2']\n",
    "        signal_df = signal_df.set_index('date')\n",
    "        return signal_df[['bk2']]\n",
    "\n",
    "    def signal_3(m=0.01):\n",
    "        \"\"\"\n",
    "        在4分钟上，若最高价高于前一根K线最高价+常数参数m，则BK3=1、SK3=0；\n",
    "        若最低价低于前一根K线最低价-常数参数m，则BK3=0、SK3=1\n",
    "        \"\"\"\n",
    "        signal_df = pd.DataFrame(data_df.macd_15 , index = data_df.index)\n",
    "        signal_df['date'] = signal_df.index\n",
    "        signal_df['high'] = signal_df['date'].apply(get_data, args = (4,'high'))\n",
    "        signal_df['low'] = signal_df['date'].apply(get_data, args = (4,'low'))\n",
    "\n",
    "        signal_df['bk3'] = None\n",
    "\n",
    "        def inner_func(i,m):\n",
    "            i = signal_df.index.get_loc(i)\n",
    "            if signal_df['high'][i] > signal_df['high'][i-4] + m :\n",
    "                return 1\n",
    "            elif signal_df['low'][i] < signal_df['low'][i-4] - m :\n",
    "                return 0\n",
    "        signal_df['bk3'] = signal_df['date'].apply(inner_func, args = (m,))\n",
    "\n",
    "        return signal_df[['bk3']]\n",
    "\n",
    "    \n",
    "    \"\"\"\n",
    "    开始计算交易盈亏\n",
    "    \"\"\"\n",
    "    data_df = get_csv_data(stock = stock)  \n",
    "\n",
    "    macd_generator(60)    # 生成周期为15min和60min的MACD列\n",
    "    macd_generator(15)\n",
    "    \n",
    "    # 生成60min，15min，4min三种周期下的信号\n",
    "    signal_df_1 = signal_1()\n",
    "    signal_df_2 = signal_2()\n",
    "    signal_df_3 = signal_3(m=m)\n",
    "    \n",
    "    # 将三种信号合并到一张dataframe上，对于bk全为1的设置交易信号为买入1，反之为卖出信号0\n",
    "    signal_df = pd.concat([signal_df_1,signal_df_2,signal_df_3], axis=1)\n",
    "    buy_df = signal_df[(signal_df['bk1']==1)&(signal_df['bk2']==1)&(signal_df['bk3']==1)]\n",
    "    sell_df = signal_df[(signal_df['bk1']==0)&(signal_df['bk2']==0)&(signal_df['bk3']==0)]\n",
    "    capacity = pd.DataFrame(index = signal_df.index)\n",
    "    capacity['signal'] = 0\n",
    "    capacity.loc[buy_df.index,'signal'] = 1\n",
    "    capacity.loc[sell_df.index,'signal'] = -1\n",
    "    print('m, 买入信号比，卖出信号比：', m, len(capacity[capacity['signal'] == 1]) / len(capacity), len(capacity[capacity['signal'] == -1]) / len(capacity))\n",
    "    capacity = capacity[capacity.index >= pd.to_datetime('2021-01-01')] # 只选用2021-01-01起的数据，便于剔除EMA起始值的影响\n",
    "\n",
    "    # 构建交易回测记录，每min循环，每日平仓\n",
    "    capacity['close'] = data_df['close']\n",
    "    capacity['cash'] = 0   # 现金\n",
    "    capacity['stock_shares'] = 0   # 持有股份数\n",
    "    capacity['delta_change'] = 0   # 计算胜率用的过程量，初始为0\n",
    "    capacity['total_capacity'] = 0   # 持股现值+现金\n",
    "    capacity['date_date'] = capacity.index.date\n",
    "    \n",
    "\n",
    "    grouped = capacity.groupby(by='date_date')\n",
    "    for key, daily_df in grouped:\n",
    "        # 每次买卖一手股票\n",
    "        daily_df['stock_shares'] = 1 * daily_df['signal'] # signal为1时做多，股票数加1；反之减1\n",
    "        daily_df['cash'] = - daily_df['stock_shares'] * daily_df['close'] # cash变动数为买卖股票数*当前股价，变动方向和股票数方向相反\n",
    "        daily_df['delta_change'] = daily_df['stock_shares'] * daily_df.iloc[-1]['close'] + daily_df['cash'] \n",
    "        # 这笔交易的盈亏取决于当日收盘时平仓情况，记录下这笔交易的盈亏为delta_change\n",
    "\n",
    "        # 每日平仓\n",
    "        daily_df.loc[daily_df.index[-1], 'stock_shares'] = - daily_df.loc[daily_df.index[:-1], 'stock_shares'].sum()\n",
    "        daily_df.loc[daily_df.index[-1], 'cash'] = - daily_df.loc[daily_df.index[-1], 'stock_shares'] * daily_df.loc[daily_df.index[-1], 'close']\n",
    "\n",
    "        capacity.loc[daily_df.index] = daily_df\n",
    "    \n",
    "    # 将数据cumsum，从变化量调整为总量\n",
    "    capacity['stock_shares'] = capacity['stock_shares'].cumsum()\n",
    "    capacity['cash'] = capacity['cash'].cumsum()\n",
    "    # 设置初始cash和shares\n",
    "    capacity['stock_shares'] = capacity['stock_shares'] + 500\n",
    "    capacity['cash'] = capacity['cash'] + 5000\n",
    "    capacity['total_capacity'] = capacity['cash'] + capacity['stock_shares'] * capacity['close']\n",
    "\n",
    "    # 计算胜率\n",
    "    win = len(capacity[capacity['delta_change']>0])\n",
    "    lose = len(capacity[capacity['delta_change']<0])\n",
    "    rate = win/(win+lose)\n",
    "    print('胜率：',rate)\n",
    "\n",
    "    print('################')\n",
    "    print(stock, m)\n",
    "    capacity['total_capacity'][:-2].plot()\n",
    "    plt.title(stock+' with m = '+str(m))\n",
    "    plt.xlabel(\"Time\")\n",
    "    plt.ylabel(\"Capital\")\n",
    "    plt.show()\n",
    "    return capacity\n",
    "\n",
    "if __name__ == '__main__':\n",
    "    \n",
    "    stock = '688005.XSHG'\n",
    "    m = 0.2\n",
    "    capacity = triply_periodic_strat(stock, m)"
   ]
  },
  {
   "cell_type": "code",
   "execution_count": 8,
   "metadata": {
    "ExecuteTime": {
     "end_time": "2022-01-24T13:37:37.762225Z",
     "start_time": "2022-01-24T13:37:37.757229Z"
    }
   },
   "outputs": [
    {
     "data": {
      "text/plain": [
       "0.4713264000880352"
      ]
     },
     "execution_count": 8,
     "metadata": {},
     "output_type": "execute_result"
    }
   ],
   "source": [
    "0.05641764575482155/(0.06328973620039903+0.05641)"
   ]
  },
  {
   "cell_type": "markdown",
   "metadata": {},
   "source": [
    "思齐，结果很清晰。可否加个统计：\n",
    "1、交易期间（年初至今或指定区间）的胜率多少，总损益多少，对应的收益率\n",
    "2、上述结果可放在起始日期数据行的上面。\n",
    "我说明白了么？不明白的话，随时问我。\n",
    "\n",
    "思齐，更新后的程序和结果，一起发。\n",
    "\n",
    "股票那个地方，争取做成参数，输入国内或美股的股票代码，就可以跑出结果。所以，万德取数据的时候，要用：全球股票分类对应的指标，不要只选择A股"
   ]
  },
  {
   "cell_type": "code",
   "execution_count": 14,
   "metadata": {
    "ExecuteTime": {
     "end_time": "2022-01-20T11:20:45.366024Z",
     "start_time": "2022-01-20T11:20:45.326131Z"
    }
   },
   "outputs": [],
   "source": []
  },
  {
   "cell_type": "code",
   "execution_count": 23,
   "metadata": {
    "ExecuteTime": {
     "end_time": "2022-01-20T11:55:40.539667Z",
     "start_time": "2022-01-20T11:54:30.282305Z"
    },
    "scrolled": true
   },
   "outputs": [
    {
     "name": "stdout",
     "output_type": "stream",
     "text": [
      "0.2 0.059328091493924234 0.06987569518297042\n",
      "                     signal   close  cash  stock_shares  delta_change  \\\n",
      "date                                                                    \n",
      "2021-01-06 09:31:00       0   53.07  5000           500             0   \n",
      "2021-01-06 09:32:00       0   53.14  5000           500             0   \n",
      "2021-01-06 09:33:00       0   52.64  5000           500             0   \n",
      "2021-01-06 09:34:00       0   53.12  5000           500             0   \n",
      "2021-01-06 09:35:00       0   52.73  5000           500             0   \n",
      "...                     ...     ...   ...           ...           ...   \n",
      "2021-12-30 14:55:00       0  107.01  5000           500             0   \n",
      "2021-12-30 14:56:00       0  106.90  5000           500             0   \n",
      "2021-12-30 14:57:00       0  107.08  5000           500             0   \n",
      "2021-12-30 14:58:00       0  107.08  5000           500             0   \n",
      "2021-12-30 15:00:00       0  107.02  5000           500             0   \n",
      "\n",
      "                     total_capacity   date_date  \n",
      "date                                             \n",
      "2021-01-06 09:31:00         31535.0  2021-01-06  \n",
      "2021-01-06 09:32:00         31570.0  2021-01-06  \n",
      "2021-01-06 09:33:00         31320.0  2021-01-06  \n",
      "2021-01-06 09:34:00         31560.0  2021-01-06  \n",
      "2021-01-06 09:35:00         31365.0  2021-01-06  \n",
      "...                             ...         ...  \n",
      "2021-12-30 14:55:00         58505.0  2021-12-30  \n",
      "2021-12-30 14:56:00         58450.0  2021-12-30  \n",
      "2021-12-30 14:57:00         58540.0  2021-12-30  \n",
      "2021-12-30 14:58:00         58540.0  2021-12-30  \n",
      "2021-12-30 15:00:00         58510.0  2021-12-30  \n",
      "\n",
      "[57359 rows x 7 columns]\n",
      "胜率： 0.4795876847958768\n",
      "################\n",
      "688005.XSHG 0.2\n"
     ]
    },
    {
     "data": {
      "image/png": "[encoded data removed]",
      "text/plain": [
       "<Figure size 432x288 with 1 Axes>"
      ]
     },
     "metadata": {
      "needs_background": "light"
     },
     "output_type": "display_data"
    }
   ],
   "source": []
  },
  {
   "cell_type": "code",
   "execution_count": 35,
   "metadata": {
    "ExecuteTime": {
     "end_time": "2022-01-20T12:01:33.316948Z",
     "start_time": "2022-01-20T12:01:32.941443Z"
    }
   },
   "outputs": [],
   "source": [
    "capacity.to_csv('123.csv')"
   ]
  },
  {
   "cell_type": "code",
   "execution_count": null,
   "metadata": {},
   "outputs": [],
   "source": [
    "capacity"
   ]
  },
  {
   "cell_type": "code",
   "execution_count": 29,
   "metadata": {
    "ExecuteTime": {
     "end_time": "2022-01-20T11:59:29.784540Z",
     "start_time": "2022-01-20T11:59:29.457630Z"
    }
   },
   "outputs": [
    {
     "data": {
      "image/png": "[encoded data removed]",
      "text/plain": [
       "<Figure size 432x288 with 1 Axes>"
      ]
     },
     "metadata": {
      "needs_background": "light"
     },
     "output_type": "display_data"
    }
   ],
   "source": [
    "    capacity['total_capacity'][:-2].plot()\n",
    "    plt.title(stock+' with m = '+str(m))\n",
    "    plt.xlabel(\"Time\")\n",
    "    plt.ylabel(\"Capital\")\n",
    "    plt.show()\n"
   ]
  },
  {
   "cell_type": "code",
   "execution_count": 37,
   "metadata": {
    "ExecuteTime": {
     "end_time": "2022-01-20T12:02:33.892836Z",
     "start_time": "2022-01-20T12:02:33.888864Z"
    }
   },
   "outputs": [
    {
     "data": {
      "text/plain": [
       "datetime.timedelta(days=358)"
      ]
     },
     "execution_count": 37,
     "metadata": {},
     "output_type": "execute_result"
    }
   ],
   "source": [
    "capacity['date_date'][-1] - capacity['date_date'][0]"
   ]
  },
  {
   "cell_type": "code",
   "execution_count": 39,
   "metadata": {
    "ExecuteTime": {
     "end_time": "2022-01-20T12:02:48.469374Z",
     "start_time": "2022-01-20T12:02:48.464387Z"
    }
   },
   "outputs": [
    {
     "data": {
      "text/plain": [
       "0.8694742783800565"
      ]
     },
     "execution_count": 39,
     "metadata": {},
     "output_type": "execute_result"
    }
   ],
   "source": [
    "(capacity['total_capacity'][-1]/capacity['total_capacity'][0] - 1) / 358 * 365"
   ]
  },
  {
   "cell_type": "code",
   "execution_count": 40,
   "metadata": {
    "ExecuteTime": {
     "end_time": "2022-01-20T12:03:43.203214Z",
     "start_time": "2022-01-20T12:03:43.197231Z"
    }
   },
   "outputs": [
    {
     "data": {
      "text/plain": [
       "1.0364591721906242"
      ]
     },
     "execution_count": 40,
     "metadata": {},
     "output_type": "execute_result"
    }
   ],
   "source": [
    "(capacity['close'][-1]/capacity['close'][0] - 1) / 358 * 365"
   ]
  },
  {
   "cell_type": "code",
   "execution_count": 30,
   "metadata": {
    "ExecuteTime": {
     "end_time": "2022-01-20T11:59:35.633220Z",
     "start_time": "2022-01-20T11:59:35.293148Z"
    }
   },
   "outputs": [
    {
     "data": {
      "text/plain": [
       "<AxesSubplot:xlabel='date'>"
      ]
     },
     "execution_count": 30,
     "metadata": {},
     "output_type": "execute_result"
    },
    {
     "data": {
      "image/png": "[encoded data removed]",
      "text/plain": [
       "<Figure size 432x288 with 1 Axes>"
      ]
     },
     "metadata": {
      "needs_background": "light"
     },
     "output_type": "display_data"
    }
   ],
   "source": [
    "capacity['close'].plot()"
   ]
  },
  {
   "cell_type": "code",
   "execution_count": null,
   "metadata": {},
   "outputs": [],
   "source": []
  },
  {
   "cell_type": "code",
   "execution_count": null,
   "metadata": {},
   "outputs": [],
   "source": []
  },
  {
   "cell_type": "code",
   "execution_count": null,
   "metadata": {},
   "outputs": [],
   "source": []
  },
  {
   "cell_type": "code",
   "execution_count": null,
   "metadata": {},
   "outputs": [],
   "source": [
    "\n",
    "\n"
   ]
  }
 ],
 "metadata": {
  "kernelspec": {
   "display_name": "Python 3",
   "language": "python",
   "name": "python3"
  },
  "language_info": {
   "codemirror_mode": {
    "name": "ipython",
    "version": 3
   },
   "file_extension": ".py",
   "mimetype": "text/x-python",
   "name": "python",
   "nbconvert_exporter": "python",
   "pygments_lexer": "ipython3",
   "version": "3.7.6"
  },
  "toc": {
   "base_numbering": 1,
   "nav_menu": {},
   "number_sections": true,
   "sideBar": true,
   "skip_h1_title": false,
   "title_cell": "Table of Contents",
   "title_sidebar": "Contents",
   "toc_cell": false,
   "toc_position": {},
   "toc_section_display": true,
   "toc_window_display": false
  },
  "varInspector": {
   "cols": {
    "lenName": 16,
    "lenType": 16,
    "lenVar": 40
   },
   "kernels_config": {
    "python": {
     "delete_cmd_postfix": "",
     "delete_cmd_prefix": "del ",
     "library": "var_list.py",
     "varRefreshCmd": "print(var_dic_list())"
    },
    "r": {
     "delete_cmd_postfix": ") ",
     "delete_cmd_prefix": "rm(",
     "library": "var_list.r",
     "varRefreshCmd": "cat(var_dic_list()) "
    }
   },
   "types_to_exclude": [
    "module",
    "function",
    "builtin_function_or_method",
    "instance",
    "_Feature"
   ],
   "window_display": false
  }
 },
 "nbformat": 4,
 "nbformat_minor": 4
}
